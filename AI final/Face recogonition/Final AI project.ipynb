{
 "cells": [
  {
   "cell_type": "code",
   "execution_count": 1,
   "id": "c3317347",
   "metadata": {},
   "outputs": [],
   "source": [
    "import cv2\n",
    "import numpy as np\n",
    "import face_recognition\n",
    "import os"
   ]
  },
  {
   "cell_type": "code",
   "execution_count": 2,
   "id": "8b9e5b29",
   "metadata": {},
   "outputs": [
    {
     "name": "stdout",
     "output_type": "stream",
     "text": [
      "['bill', 'elon', 'Khalifa', 'mostafa', 'Obama', 'salah', 'steve', 'zakaria']\n"
     ]
    }
   ],
   "source": [
    "face_cascade = cv2.CascadeClassifier(cv2.data.haarcascades+'haarcascade_frontalface_alt2.xml')\n",
    "recognizer = cv2.face.LBPHFaceRecognizer_create()\n",
    "path = r'ImagesAttendance'\n",
    "images = []\n",
    "classNames = []\n",
    "personsList = os.listdir(path)\n",
    "for cl in personsList:\n",
    "    curPersonn = cv2.imread(f'{path}/{cl}')\n",
    "    images.append(curPersonn)\n",
    "    classNames.append(os.path.splitext(cl)[0])\n",
    "print(classNames)\n"
   ]
  },
  {
   "cell_type": "code",
   "execution_count": 3,
   "id": "f1a86b78",
   "metadata": {},
   "outputs": [
    {
     "name": "stdout",
     "output_type": "stream",
     "text": [
      "['Khalifa' 'Obama' 'bill' 'elon' 'mostafa' 'salah' 'steve' 'zakaria']\n"
     ]
    }
   ],
   "source": [
    "labels = np.unique(classNames)\n",
    "print(labels)"
   ]
  },
  {
   "cell_type": "code",
   "execution_count": 4,
   "id": "179d47c8",
   "metadata": {},
   "outputs": [
    {
     "name": "stdout",
     "output_type": "stream",
     "text": [
      "number of samples : 8\n"
     ]
    }
   ],
   "source": [
    "print(\"number of samples :\", len(classNames))\n"
   ]
  },
  {
   "cell_type": "code",
   "execution_count": 5,
   "id": "de49f09c",
   "metadata": {},
   "outputs": [],
   "source": [
    "def findEncodeings(image):\n",
    "    encodeList = []\n",
    "    for img in images:\n",
    "        img = cv2.cvtColor(img, cv2.COLOR_BGR2RGB)\n",
    "        encode = face_recognition.face_encodings(img)[0]\n",
    "        encodeList.append(encode)\n",
    "    return encodeList\n"
   ]
  },
  {
   "cell_type": "code",
   "execution_count": 6,
   "id": "51c28dae",
   "metadata": {},
   "outputs": [
    {
     "name": "stdout",
     "output_type": "stream",
     "text": [
      "Encoding Complete.\n"
     ]
    }
   ],
   "source": [
    "encodeListKnown = findEncodeings(images)\n",
    "print('Encoding Complete.')"
   ]
  },
  {
   "cell_type": "code",
   "execution_count": 7,
   "id": "782882c1",
   "metadata": {},
   "outputs": [],
   "source": [
    "from sklearn.preprocessing import LabelEncoder\n",
    "from keras.utils import to_categorical\n",
    "le = LabelEncoder()\n",
    "\n",
    "le.fit(classNames)\n",
    "\n",
    "labels = le.classes_\n",
    "\n",
    "name_vec = le.transform(classNames)\n",
    "\n",
    "categorical_name_vec = to_categorical(name_vec)"
   ]
  },
  {
   "cell_type": "code",
   "execution_count": 8,
   "id": "adc877f9",
   "metadata": {},
   "outputs": [],
   "source": [
    "X=np.array(encodeListKnown)\n",
    "X=X.reshape(X.shape[0], -1)\n",
    "y=np.array(categorical_name_vec),"
   ]
  },
  {
   "cell_type": "code",
   "execution_count": 9,
   "id": "c0bcc82e",
   "metadata": {},
   "outputs": [
    {
     "name": "stdout",
     "output_type": "stream",
     "text": [
      "[2 3 0 4 1 5 6 7]\n"
     ]
    }
   ],
   "source": [
    "print(name_vec)\n"
   ]
  },
  {
   "cell_type": "code",
   "execution_count": 10,
   "id": "fe904df6",
   "metadata": {},
   "outputs": [],
   "source": [
    "from sklearn.model_selection import train_test_split\n",
    "x_train, x_test, y_train, y_test = train_test_split(X, \n",
    "                                                    np.array(categorical_name_vec),       \n",
    "                                                    test_size=0.15, \n",
    "                                                    shuffle=False)"
   ]
  },
  {
   "cell_type": "code",
   "execution_count": 11,
   "id": "91d6a598",
   "metadata": {},
   "outputs": [
    {
     "name": "stdout",
     "output_type": "stream",
     "text": [
      "(6, 128) (6, 8) (2, 128) (2, 8)\n"
     ]
    }
   ],
   "source": [
    "print(x_train.shape, y_train.shape, x_test.shape,  y_test.shape)\n"
   ]
  },
  {
   "cell_type": "code",
   "execution_count": 12,
   "id": "17e3e0b1",
   "metadata": {},
   "outputs": [],
   "source": [
    "x_train=x_train/255\n",
    "x_train=x_train/255"
   ]
  },
  {
   "cell_type": "code",
   "execution_count": 13,
   "id": "c43d26ba",
   "metadata": {},
   "outputs": [
    {
     "data": {
      "text/plain": "MLPRegressor(activation='tanh', alpha=1e-06, solver='lbfgs')"
     },
     "execution_count": 13,
     "metadata": {},
     "output_type": "execute_result"
    }
   ],
   "source": [
    "from sklearn.neural_network import MLPRegressor\n",
    "MLPRegressorModel = MLPRegressor(activation='tanh', \n",
    "                                 solver='lbfgs',  \n",
    "                                 learning_rate='constant',\n",
    "                                 alpha=0.000001)\n",
    "MLPRegressorModel.fit(x_train, y_train)"
   ]
  },
  {
   "cell_type": "code",
   "execution_count": 14,
   "id": "c34df93c",
   "metadata": {},
   "outputs": [
    {
     "name": "stdout",
     "output_type": "stream",
     "text": [
      "[[-2.41768304e-07  4.50122372e-07 -4.28527089e-07  5.52292333e-08\n",
      "  -2.37339302e-06 -6.67659102e-08 -7.33091069e-07 -1.49811015e-06\n",
      "   1.94305803e-06 -8.93959675e-07  2.39116694e-06  4.03999469e-07\n",
      "  -3.64623130e-06 -6.97950224e-07  7.55540147e-07  1.59971934e-06\n",
      "  -2.91932917e-06 -1.44300863e-06 -2.07711554e-06 -1.43829732e-06\n",
      "  -1.67316769e-06 -9.45189363e-07  1.46670417e-06  1.04041020e-07\n",
      "  -2.22452372e-06 -3.35657037e-06 -2.22907393e-06 -2.28649353e-06\n",
      "   2.66365618e-06 -1.26982689e-06  6.34173082e-07  8.05739472e-07\n",
      "  -2.40983458e-06 -8.39811398e-07  8.43256483e-07  1.85456930e-06\n",
      "  -1.34019062e-06 -9.76370257e-07  3.83645560e-06 -3.16681242e-07\n",
      "  -2.54504225e-06 -6.79634056e-07  9.95729965e-07  3.11270648e-06\n",
      "   4.01864598e-06  1.05077970e-06  5.51001114e-07 -6.27183000e-07\n",
      "   1.78510102e-06 -3.12867507e-06  1.97509283e-06  2.53740846e-06\n",
      "   2.46696315e-06  1.44783005e-06  1.02816190e-06 -2.12329963e-06\n",
      "   1.37242066e-06  3.27066681e-06 -2.27900433e-06  1.33285141e-06\n",
      "   1.95763653e-06 -1.43833375e-06 -4.51130192e-07  1.33512342e-08\n",
      "   2.50899141e-06  9.99702233e-07 -9.18988240e-07 -2.17788360e-06\n",
      "   2.96791532e-06 -3.38011249e-06 -1.35951549e-06  1.61535084e-06\n",
      "  -1.88789153e-06 -2.08224255e-06 -4.98381407e-06 -7.19648228e-07\n",
      "   6.07939327e-06  3.34364068e-06 -1.15258207e-06 -8.13730442e-08\n",
      "  -5.54621449e-07 -1.29036929e-06 -3.94963212e-07  1.06207365e-06\n",
      "  -2.15051381e-06 -1.65381119e-06 -1.53500774e-06  1.65430474e-07\n",
      "   3.05607336e-06 -5.71604705e-07  7.28787321e-07  2.27930407e-06\n",
      "   1.45642093e-08 -1.83684397e-07 -4.84574419e-07 -2.45433296e-07\n",
      "  -1.57639390e-06 -9.19371396e-07 -1.07568452e-06 -1.89467984e-06\n",
      "   1.05366850e-06 -2.10624184e-06  7.98233206e-07  1.63757826e-06\n",
      "  -3.37383762e-06  2.52770580e-06 -5.32529919e-07 -2.37166990e-07\n",
      "   5.80141907e-07 -5.11969825e-08 -9.72629785e-07  1.47785646e-07\n",
      "   4.35255620e-06 -3.21283954e-06  3.07292353e-06  3.58506722e-06\n",
      "  -7.42653665e-08  7.75089428e-07  1.58660277e-06  2.37808050e-06\n",
      "  -9.91472048e-07 -5.38653431e-07 -2.95666102e-06 -1.47516202e-06\n",
      "  -9.26027363e-07 -1.10084623e-06  9.58879296e-07  1.02719026e-06]\n",
      " [-7.72519164e-07  1.69356389e-06  1.25699848e-06 -9.17578559e-07\n",
      "  -2.55826344e-06  6.69051310e-07 -1.19545720e-06 -1.88977328e-06\n",
      "   2.64377009e-06 -1.56666077e-06  4.73637253e-06 -1.05334160e-06\n",
      "  -3.77619464e-06 -3.69676669e-07 -1.93974720e-07  1.42286244e-06\n",
      "  -2.57932031e-06 -1.41071854e-06 -4.05648737e-07 -1.40449935e-06\n",
      "   1.80415663e-06  1.81401156e-06 -5.60783732e-08 -2.85836526e-07\n",
      "  -1.55520859e-06 -4.97467423e-06 -1.25482398e-06 -9.95886596e-07\n",
      "   2.86991163e-06 -8.53613735e-07  3.59415406e-07  5.81274017e-07\n",
      "  -2.44570072e-06 -1.15416408e-06  5.16770609e-07  4.49707735e-07\n",
      "  -1.44634371e-06 -1.47830989e-06  2.59301242e-06 -2.09871039e-07\n",
      "  -2.63752891e-06 -1.53827809e-06  3.84275969e-07  2.66690728e-06\n",
      "   1.04524078e-06  6.59298411e-07  8.66618078e-07 -1.24595971e-06\n",
      "   7.20984807e-07 -3.82223802e-06  7.76627897e-07  2.38059141e-06\n",
      "   2.11896964e-06  5.14659009e-07  2.34464713e-06 -2.79564529e-06\n",
      "  -1.20029111e-08  2.91666105e-06 -2.12021284e-06  2.18925775e-06\n",
      "   1.13702368e-06 -1.41084630e-06  2.79008345e-08 -6.86872606e-07\n",
      "   2.73351805e-06  4.35146534e-07 -5.89856307e-07 -2.84679117e-06\n",
      "   2.44576695e-06 -1.17880640e-06 -2.29095986e-06  3.05462805e-06\n",
      "  -9.46892483e-07 -2.80051977e-06 -4.17685885e-06 -2.55874078e-07\n",
      "   7.58055264e-06  1.73556695e-06 -2.86492189e-06  3.95223195e-07\n",
      "   2.04904161e-08 -6.96256843e-07  2.41993345e-06  1.14074467e-06\n",
      "  -2.86704987e-07 -7.75386191e-07 -2.36933138e-06 -4.36355355e-07\n",
      "   2.78460503e-06 -1.15303157e-06 -7.41161185e-07  3.96343755e-06\n",
      "   9.57761394e-08  1.60983965e-06  3.59113602e-07  7.43609307e-07\n",
      "  -1.06580805e-06  1.94080048e-07 -5.62027458e-07 -1.21691361e-06\n",
      "   1.62072019e-06 -3.23696532e-07 -4.71022039e-07  1.79164584e-06\n",
      "  -1.97752285e-06  2.05393733e-06 -3.07397149e-07  1.21439179e-07\n",
      "   3.21953939e-07 -7.21426285e-07 -5.95626053e-07 -1.11651691e-07\n",
      "   2.80604689e-06 -4.87434319e-06  1.71256382e-06  2.58774287e-06\n",
      "  -2.40691021e-07  2.44877238e-06  9.66956917e-07  4.72749794e-07\n",
      "   9.01840504e-07 -1.66185954e-06 -3.30616240e-06 -1.82728259e-06\n",
      "  -9.78433103e-08 -1.30994922e-06 -9.80304026e-07  2.12156099e-07]\n",
      " [-2.27495438e-06  1.02424589e-06 -7.63598576e-08 -9.00855343e-07\n",
      "  -4.36184144e-07 -7.50839149e-07 -2.09864780e-07 -1.07545994e-06\n",
      "   2.87726837e-06 -1.66974930e-06  3.69988007e-06 -1.93593503e-06\n",
      "  -5.22615084e-06 -1.57514927e-07 -8.47342128e-07  1.18256944e-06\n",
      "  -2.16339882e-06 -2.35152744e-06 -2.92723343e-07 -2.13802250e-06\n",
      "   2.39304535e-08 -4.26003202e-07  5.28278132e-07  1.73113945e-06\n",
      "  -2.41156887e-06 -5.17435598e-06 -1.24674779e-06 -2.76077302e-06\n",
      "  -2.95472582e-07 -1.38802558e-06  6.53052011e-07  1.24977763e-06\n",
      "  -2.15162089e-06 -3.01819754e-07  3.96368625e-07  1.48970558e-06\n",
      "  -4.83584216e-07 -2.44423501e-07  4.54568716e-06 -5.05919458e-07\n",
      "  -1.23022199e-06  1.18400532e-07  7.22075897e-07  4.97815152e-06\n",
      "   9.27627705e-07  1.39282798e-06  4.22807072e-07 -1.48066863e-06\n",
      "   2.39750964e-06 -3.54629464e-06  1.81856143e-06  3.27594575e-06\n",
      "   2.81630732e-06  4.67118175e-07  1.41674924e-06 -1.77455196e-06\n",
      "   9.28594877e-07  2.32643460e-06 -3.49212545e-06  2.30816203e-06\n",
      "   1.77669427e-06 -4.96948283e-07 -8.05970065e-07 -6.65299322e-07\n",
      "   4.05148697e-06  1.16315966e-06 -2.28496182e-06 -1.46015270e-06\n",
      "   2.80389507e-06 -2.31083793e-06 -8.37211859e-07  2.38898189e-06\n",
      "  -1.63627365e-06 -3.61936934e-06 -2.79490923e-06  1.88896125e-06\n",
      "   5.66155211e-06  2.68141085e-06 -1.68131320e-06  8.09259779e-07\n",
      "  -1.49957690e-06 -6.13098910e-07  4.99941463e-07  1.00444124e-07\n",
      "  -2.29604012e-06 -1.70236136e-06 -2.09574170e-06  1.17801643e-07\n",
      "   3.18567279e-06  3.88026581e-07 -1.19802563e-06  2.59828173e-06\n",
      "   2.37126400e-07  2.23488057e-07  3.63456279e-08  3.10390758e-07\n",
      "  -2.52097788e-06 -4.32445763e-07 -1.56704793e-06 -3.75709720e-07\n",
      "   1.11435169e-06 -1.29453165e-06 -9.33427872e-07  4.81563021e-07\n",
      "  -3.43319935e-06  1.83209462e-06 -1.06599779e-06 -1.36753301e-06\n",
      "  -3.06038571e-07  1.17377472e-06 -2.08433066e-06 -2.44603048e-07\n",
      "   2.41438112e-06 -5.56584231e-06  2.76329333e-06  1.87712064e-06\n",
      "   1.67232346e-06  2.47102089e-06  9.86635960e-07  5.42817334e-07\n",
      "   5.50127841e-07 -6.44444400e-07 -2.69993779e-06 -2.58488662e-06\n",
      "   1.54940452e-06  4.76406823e-07  1.30328753e-06  1.88622089e-07]\n",
      " [-2.79568196e-06  1.29971090e-06  1.04413210e-06 -6.07643974e-07\n",
      "  -4.37055125e-07 -1.11258211e-06 -8.57507688e-07 -1.63080508e-06\n",
      "   2.88112285e-06 -2.03195190e-06  4.52964409e-06  2.08598712e-07\n",
      "  -2.96403426e-06 -9.56742833e-07  2.44888124e-07  1.60287076e-06\n",
      "  -3.44042776e-06 -1.26663880e-06 -1.32528086e-06 -1.32373953e-06\n",
      "   1.77159017e-06 -5.74592901e-07  7.73610082e-07  3.64551094e-07\n",
      "  -3.68553829e-06 -5.17674842e-06 -2.39235055e-06 -1.49165115e-06\n",
      "   2.32945969e-07 -9.44874095e-07  5.91963782e-07 -5.11791410e-07\n",
      "  -3.40224458e-06 -5.97171798e-07  3.77160936e-09  6.45594613e-07\n",
      "  -4.15970498e-07 -7.75450814e-07  1.53956746e-06 -2.28341834e-07\n",
      "  -1.61292357e-06 -9.60140939e-09  5.11258669e-07  2.83108428e-06\n",
      "   2.82843335e-06  1.45381870e-06  7.73711142e-07 -1.29508209e-06\n",
      "   6.99800867e-07 -4.42007192e-06  1.19415694e-06  2.17500190e-06\n",
      "   9.72366594e-07  1.20466521e-06  1.90948303e-06 -2.11345214e-06\n",
      "   7.52217148e-07  2.34663830e-06 -3.06281251e-06  1.08335257e-06\n",
      "   6.44078258e-07 -9.88358617e-08 -1.25821624e-06  5.14010944e-07\n",
      "   3.32553609e-06  3.21359806e-06 -2.78269543e-06 -1.74729355e-06\n",
      "   2.26322022e-06 -1.73118448e-06 -7.01278780e-07  6.88548915e-07\n",
      "  -2.01332574e-06 -4.18780813e-06 -4.37159714e-06  7.22835794e-07\n",
      "   7.35183442e-06  2.39774247e-06 -2.96777003e-06  5.60482744e-07\n",
      "  -1.80283117e-06  2.14246859e-07  1.14419469e-06  1.00608137e-06\n",
      "  -9.95716788e-07 -9.38995670e-07 -1.42221311e-06  1.29585184e-06\n",
      "   2.17968801e-06  3.57829186e-07 -1.15751441e-06  3.42438928e-06\n",
      "  -1.18505738e-07  2.40018391e-07  1.06833155e-07  7.81397644e-07\n",
      "  -1.69858537e-06 -6.48288510e-07 -1.45609278e-06 -7.13949981e-07\n",
      "   6.53104547e-07  5.96952663e-07 -1.36402193e-06  1.18989215e-06\n",
      "  -1.97543955e-06  2.97125946e-06  3.07010383e-07 -9.50621899e-07\n",
      "  -9.10683349e-07 -2.13084843e-07 -1.47730570e-06  5.49204438e-07\n",
      "   8.22580019e-07 -4.87773201e-06  3.70649295e-06  3.20774507e-06\n",
      "   1.14421346e-07  3.09568765e-06  7.58797377e-07  1.90640822e-07\n",
      "   8.58482765e-07  1.07591740e-07 -2.29863880e-06 -1.50601012e-06\n",
      "  -1.25732787e-07 -8.61701668e-07  8.96250134e-07 -4.25866221e-07]\n",
      " [-1.53737635e-06  1.64834663e-06  5.86874299e-07 -9.23933352e-07\n",
      "   1.02504635e-07  4.44954116e-07 -1.11968036e-06 -1.65999371e-06\n",
      "   2.98494447e-06 -1.16160057e-06  3.45664797e-06  1.14352302e-06\n",
      "  -3.36485751e-06 -2.18744440e-06  5.35969389e-07  1.55528157e-06\n",
      "  -2.59679907e-06 -8.01902180e-07 -1.58433637e-06 -1.89425383e-06\n",
      "   2.98815546e-07  5.04304156e-08  2.33938881e-06  1.54326617e-07\n",
      "  -2.94617784e-06 -4.98515833e-06 -1.08369689e-06 -2.65178223e-06\n",
      "  -4.40110751e-07 -1.29584817e-06 -6.31935617e-07 -9.88832764e-08\n",
      "  -3.10384256e-06 -1.66538781e-06  3.89118932e-07 -1.35634440e-07\n",
      "  -5.42475957e-08  9.24745096e-08  3.30584845e-06  3.05037798e-07\n",
      "  -1.79022562e-06  1.63815197e-06  5.99698120e-07  3.16739701e-06\n",
      "   3.74677157e-06  9.44531615e-07 -8.73969718e-08 -1.34704996e-06\n",
      "   1.94308255e-06 -3.41177651e-06  1.02691275e-06  2.02689318e-06\n",
      "   9.14153813e-07  1.98654693e-07  1.44975122e-06 -2.56434604e-06\n",
      "   6.75257062e-08  1.42716711e-06 -2.01851233e-06  6.24913853e-07\n",
      "   5.26061291e-07 -1.38290888e-06 -1.15194925e-06  8.14226718e-07\n",
      "   2.35541125e-06  1.80662469e-06 -1.66472290e-06 -1.49097020e-06\n",
      "   1.88770648e-06 -8.82058511e-08  7.08982354e-07  9.83285519e-07\n",
      "  -2.74073042e-06 -3.03751159e-06 -3.74247665e-06  1.43686552e-06\n",
      "   6.02013879e-06  2.18533865e-06 -2.82703661e-06 -8.99179091e-08\n",
      "  -3.04734945e-06  9.88955064e-07  6.62106315e-07 -1.24079079e-07\n",
      "  -1.29344531e-06 -1.73340986e-06 -6.03237103e-07  1.10507424e-06\n",
      "   1.41615033e-06  1.42201005e-07 -1.00491185e-06  3.33132537e-06\n",
      "   4.97220984e-10  9.36897018e-07  2.23254370e-07  8.47278708e-07\n",
      "  -2.45290621e-06 -1.81101529e-07 -2.80001493e-06 -5.20055796e-07\n",
      "   9.94379522e-07 -6.64731921e-07  1.01673653e-06  1.84955103e-06\n",
      "  -3.68228375e-06  1.06292842e-06  2.40528402e-07 -1.15618986e-06\n",
      "   6.22756249e-07  1.14558970e-06 -1.06679630e-06 -2.83083449e-07\n",
      "   1.24208483e-06 -4.07916681e-06  3.90642884e-06  3.55163041e-06\n",
      "   4.61554273e-07  2.59302135e-06  1.53459629e-06  4.11157469e-07\n",
      "  -1.05295581e-07  4.81349787e-07 -1.91328744e-06 -1.25644116e-06\n",
      "   6.00518629e-07  1.04619580e-06  1.20009426e-06  6.27673461e-08]\n",
      " [-2.95030915e-06  2.43498288e-06  1.58645588e-06 -4.65548655e-07\n",
      "  -1.68521821e-06 -6.69252799e-07 -4.98889158e-07 -3.27617182e-07\n",
      "   2.80501223e-06 -3.38509524e-07  3.16301546e-06 -3.60248777e-07\n",
      "  -2.13948821e-06 -1.35646067e-06 -2.12247133e-07  1.26240529e-06\n",
      "  -2.03575642e-06 -1.70814251e-06 -6.63578327e-07 -8.28658673e-07\n",
      "   5.35905052e-07  4.90593204e-07  4.98669314e-08  1.25344856e-06\n",
      "  -2.20664874e-06 -5.18908367e-06 -4.08328425e-07 -2.24815864e-06\n",
      "   3.71761371e-07 -1.88217489e-06 -1.23904401e-07 -5.97834186e-07\n",
      "  -2.66438056e-06 -1.06626110e-06 -7.11311312e-07  1.79674776e-06\n",
      "  -5.92993242e-09 -2.38040121e-07  2.66694578e-06  6.18272151e-07\n",
      "  -2.30046659e-06  7.83281056e-07  7.68537500e-07  5.14500052e-06\n",
      "   2.61279493e-06  5.74604187e-07 -1.54990753e-07  5.26443301e-07\n",
      "   2.90300240e-06 -3.51117946e-06  1.73285117e-06  1.74688828e-06\n",
      "   2.94083955e-06  3.98143015e-08  2.73623475e-06 -2.10257183e-06\n",
      "   6.36881702e-08  1.37284530e-06 -3.33788807e-06  6.12641162e-07\n",
      "   7.43083097e-07  9.23920404e-07 -5.37656354e-09 -6.57410931e-07\n",
      "   3.42642056e-06  2.23984630e-06 -8.62010348e-07 -8.14322163e-07\n",
      "   1.27398706e-06 -1.59281772e-06  9.41956123e-08  8.48992313e-07\n",
      "  -1.19979223e-06 -1.82582777e-06 -3.03449171e-06  1.92161307e-06\n",
      "   6.01979505e-06  2.03820500e-06 -2.63765586e-06  2.45702932e-07\n",
      "  -1.58439183e-06 -6.88522676e-07  1.01809570e-07 -7.95428568e-07\n",
      "  -2.03884642e-06  4.88502802e-07 -1.90952107e-06  4.34228832e-07\n",
      "   1.71513133e-06  5.49814349e-07  6.54982631e-07  2.80748120e-06\n",
      "   5.65972799e-07 -6.03580214e-07  3.68752866e-07 -1.04755026e-06\n",
      "  -2.53388236e-06  5.97870451e-07 -1.33053093e-06 -3.69132069e-07\n",
      "   5.06873568e-07 -1.76691839e-06  4.34228660e-07  1.02213029e-08\n",
      "  -4.36825598e-06  1.35890180e-06  6.40112063e-07 -5.65693395e-07\n",
      "  -5.20175647e-07  1.46958265e-06 -2.03096330e-06 -1.78603608e-07\n",
      "   1.99628215e-06 -3.96489318e-06  2.99942695e-06  1.14349895e-06\n",
      "  -3.88254195e-07  2.72110397e-06  8.93792846e-07  5.44914898e-07\n",
      "  -1.34608417e-07  4.06144955e-07  9.66481166e-08 -1.16494677e-06\n",
      "   5.89177476e-07 -5.94178561e-07  1.27559325e-06  1.17896876e-06]]\n",
      "[[-0.24134862  0.14227886  0.02012594 -0.10303951 -0.19999303 -0.01447243\n",
      "  -0.07122093 -0.06872369  0.04549792  0.02699407  0.33206722  0.01825266\n",
      "  -0.23715393  0.02561717 -0.09324834  0.09923609 -0.14641553 -0.09379618\n",
      "  -0.13286185 -0.11615936  0.05675932 -0.01092549  0.00970848  0.04640917\n",
      "  -0.20134589 -0.19204418 -0.06132847 -0.07591918  0.19742346 -0.212263\n",
      "  -0.00386937 -0.12961631 -0.20797695 -0.03956422  0.02322563  0.08241582\n",
      "  -0.05579905 -0.13049884  0.29839116 -0.03885599 -0.11789215  0.0143441\n",
      "   0.11772147  0.23356763  0.17277615  0.00049318  0.08605929 -0.03722636\n",
      "   0.03621747 -0.27490216  0.08562943  0.13498902  0.12237395  0.06849457\n",
      "   0.07662687 -0.19829863 -0.00577779  0.19304317 -0.10435117  0.11019669\n",
      "   0.05797604  0.00104466 -0.10517402 -0.07650431  0.17091991  0.09821948\n",
      "  -0.1091319  -0.18682629  0.13725221 -0.14289032 -0.05441799  0.17505127\n",
      "  -0.05426588 -0.16824643 -0.20184013  0.08082498  0.41337162  0.17704701\n",
      "  -0.20538777  0.02062753 -0.03056883 -0.08269946  0.04184601 -0.04585809\n",
      "  -0.08993341 -0.02950168 -0.14197175  0.07472263  0.24288018 -0.01625973\n",
      "   0.05019746  0.18771632  0.10054104  0.00384258  0.04347501  0.12835404\n",
      "  -0.11923796 -0.04404939  0.01832641  0.02354599  0.12003347 -0.11097261\n",
      "   0.01273375  0.08774147 -0.15398902  0.11642475 -0.03981773 -0.05172576\n",
      "  -0.07401858  0.00958865 -0.04764532 -0.01099649  0.18013045 -0.28674591\n",
      "   0.22652881  0.25697917 -0.07118774  0.06605588  0.12321447  0.03650326\n",
      "   0.07663222  0.0791291  -0.08879355 -0.13475253 -0.07033736 -0.15434939\n",
      "   0.04368704  0.02849659]\n",
      " [-0.14094529  0.0426578   0.02449526 -0.01709739 -0.14074367 -0.02334478\n",
      "  -0.06294037 -0.05797334  0.16992365 -0.05412445  0.2903128  -0.03391348\n",
      "  -0.19547173 -0.03223636  0.02390695  0.13791585 -0.1259162  -0.11090086\n",
      "  -0.01894268 -0.08451097  0.02055391 -0.05242072 -0.0070625   0.0340083\n",
      "  -0.18544412 -0.40943113 -0.01076011 -0.13010781  0.01099303 -0.09507751\n",
      "   0.03248714  0.10432992 -0.17940134 -0.03889955  0.09486     0.14162576\n",
      "  -0.0099407   0.03451733  0.2160413  -0.02981734 -0.23462243  0.03010112\n",
      "   0.06270966  0.26669559  0.15572923  0.04184643  0.01172496 -0.07492772\n",
      "   0.11744016 -0.21031639  0.10105528  0.15855254  0.14600842 -0.01818778\n",
      "   0.03803346 -0.11038228  0.01452681  0.15106997 -0.29586941  0.07243665\n",
      "   0.14338347 -0.06595328 -0.11576477 -0.03717393  0.20476873  0.11259443\n",
      "  -0.17292887 -0.06943309  0.18042965 -0.08344391  0.01370998  0.06391022\n",
      "  -0.13668413 -0.30035099 -0.24852908  0.08680669  0.42692941  0.1197092\n",
      "  -0.21399404 -0.00233809 -0.02425044 -0.02646004  0.03538791  0.0831878\n",
      "  -0.03409379 -0.08375449 -0.04792425  0.07451294  0.14171174  0.03390791\n",
      "   0.02778365  0.22565253 -0.00977531 -0.00316926 -0.0329988   0.12377571\n",
      "  -0.12930095 -0.03247966 -0.15767163 -0.09554316  0.02989003 -0.05312597\n",
      "   0.02566456  0.11108038 -0.27232364  0.17914937 -0.01669777 -0.01675867\n",
      "   0.03740193  0.03360208  0.01021027 -0.05668381  0.12853351 -0.26049507\n",
      "   0.18570292  0.18338698  0.09067318  0.16529846  0.04803049 -0.02399153\n",
      "   0.07945746 -0.07597499 -0.23912911 -0.05790213 -0.03236885 -0.07521272\n",
      "   0.02013414  0.02817403]]\n",
      "[[0. 0. 0. 0. 0. 0. 1. 0.]\n",
      " [0. 0. 0. 0. 0. 0. 0. 1.]]\n"
     ]
    }
   ],
   "source": [
    "print(x_train)\n",
    "print(x_test)\n",
    "print(y_test)"
   ]
  },
  {
   "cell_type": "code",
   "execution_count": 15,
   "id": "de93c277",
   "metadata": {},
   "outputs": [
    {
     "name": "stdout",
     "output_type": "stream",
     "text": [
      "[[-0.05338163  0.24058423  0.13715772  0.40419375  0.13089136  0.06033004\n",
      "   0.28299394 -0.21830585]\n",
      " [-0.09263274  0.32181384  0.2225128   0.33923909  0.04190375  0.10442799\n",
      "   0.3626717  -0.18181172]]\n"
     ]
    }
   ],
   "source": [
    "y_pred=np.array(MLPRegressorModel.predict(x_test))\n",
    "print(y_pred)"
   ]
  },
  {
   "cell_type": "code",
   "execution_count": 16,
   "id": "d91f037a",
   "metadata": {},
   "outputs": [],
   "source": [
    "import itertools\n",
    "import matplotlib.pyplot as plt\n",
    "def plot_confusion_matrix(cm, classes,\n",
    "                          normalize=False,\n",
    "                          title='Confusion matrix',\n",
    "                          cmap=plt.cm.Blues):\n",
    "    if normalize:\n",
    "        cm = cm.astype('float') / cm.sum(axis=1)[:, np.newaxis]\n",
    "\n",
    "    plt.figure(figsize=(8, 8))\n",
    "    \n",
    "    plt.imshow(cm, interpolation='nearest', cmap=cmap)\n",
    "    plt.title(title)\n",
    "    plt.colorbar()\n",
    "    \n",
    "    tick_marks = np.arange(len(classes))\n",
    "    plt.xticks(tick_marks, classes, rotation=45)\n",
    "    plt.yticks(tick_marks, classes)\n",
    "\n",
    "    fmt = '.2f' if normalize else 'd'\n",
    "    thresh = cm.max() / 2.\n",
    "    for i, j in itertools.product(range(cm.shape[0]), range(cm.shape[1])):\n",
    "        plt.text(j, i, format(cm[i, j], fmt),\n",
    "                 horizontalalignment=\"center\",\n",
    "                 color=\"white\" if cm[i, j] > thresh else \"black\")\n",
    "\n",
    "    plt.tight_layout()\n",
    "    plt.ylabel('True label')\n",
    "    plt.xlabel('Predicted label')\n",
    "    plt.show()"
   ]
  },
  {
   "cell_type": "code",
   "execution_count": 17,
   "id": "1f399f2e",
   "metadata": {},
   "outputs": [
    {
     "data": {
      "text/plain": "<Figure size 576x576 with 2 Axes>",
      "image/png": "[encoded data removed]"
     },
     "metadata": {
      "needs_background": "light"
     },
     "output_type": "display_data"
    }
   ],
   "source": [
    "from sklearn.metrics import confusion_matrix\n",
    "cnf_matrix = confusion_matrix(y_test.argmax(axis=1), y_pred.argmax(axis=1))\n",
    "np.set_printoptions(precision=2)\n",
    "\n",
    "\n",
    "# Plot non-normalized confusion matrix\n",
    "plot_confusion_matrix(cnf_matrix, classes=labels,normalize=False,\n",
    "                      title='Confusion matrix OF ANN')"
   ]
  },
  {
   "cell_type": "code",
   "execution_count": 18,
   "id": "fa5ec353",
   "metadata": {},
   "outputs": [
    {
     "name": "stdout",
     "output_type": "stream",
     "text": [
      "['bill.jpg', 'elon.jpg', 'Khalifa.jpg', 'mostafa.jpeg', 'Obama.jpeg', 'salah.jpg', 'steve.jpg', 'zakaria.jpeg']\n"
     ]
    }
   ],
   "source": [
    "known_names = []\n",
    "known_name_encodings = []\n",
    "images = os.listdir(path)\n",
    "print(images)"
   ]
  },
  {
   "cell_type": "code",
   "execution_count": 19,
   "id": "9bed99ba",
   "metadata": {},
   "outputs": [
    {
     "name": "stdout",
     "output_type": "stream",
     "text": [
      "KHALIFA\n",
      "KHALIFA\n",
      "KHALIFA\n",
      "KHALIFA\n",
      "KHALIFA\n",
      "KHALIFA\n",
      "KHALIFA\n",
      "KHALIFA\n",
      "KHALIFA\n",
      "KHALIFA\n",
      "KHALIFA\n"
     ]
    }
   ],
   "source": [
    "cap = cv2.VideoCapture(0)\n",
    "face_cascade = cv2.CascadeClassifier(cv2.data.haarcascades+'haarcascade_frontalface_alt2.xml')\n",
    "while True:\n",
    "    _, img = cap.read()\n",
    "    faces = face_cascade.detectMultiScale(img, scaleFactor=1.5, minNeighbors=5)\n",
    "    imgS = cv2.resize(img, (0, 0), None, 0.20, 0.25)\n",
    "    imgS = cv2.cvtColor(img, cv2.COLOR_BGR2RGB)\n",
    "    for (x, y, w, h) in faces:\n",
    "        cv2.rectangle(img,(x,y),(x+w,y+h),(255,0,0),2)\n",
    "        \n",
    "    faceCurentFrame = face_recognition.face_locations(imgS)\n",
    "    encodeCurentFrame = face_recognition.face_encodings(imgS, faceCurentFrame)\n",
    "\n",
    "    for encodeface, faceLoc in zip(encodeCurentFrame, faceCurentFrame):\n",
    "        matches = face_recognition.compare_faces(encodeListKnown, encodeface)\n",
    "        faceDis = face_recognition.face_distance(encodeListKnown, encodeface)\n",
    "        matchIndex = np.argmin(faceDis)\n",
    "\n",
    "        if matches[matchIndex]:\n",
    "            name = classNames[matchIndex].upper()\n",
    "            print(name)\n",
    "            y1, x2, y2, x1 = faceLoc\n",
    "            y1, x2, y2, x1 = y1 * 4, x2 * 4, y2 * 4, x1 * 4\n",
    "            cv2.rectangle(img, (x1, y1), (x2, y2), (0, 0, 255), 2)\n",
    "            cv2.rectangle(img, (x1, y2 - 35), (x2, y2), (0, 0, 255), cv2.FILLED)\n",
    "            cv2.putText(img, name, (x1 + 6, y2 - 6), cv2.FONT_HERSHEY_COMPLEX, 1, (255, 255, 255), 2)\n",
    "        else: \n",
    "            print('Nan')\n",
    "    cv2.imshow('Face Recogntion', img)\n",
    "    if cv2.waitKey(20) & 0xFF == ord('q'):\n",
    "        break"
   ]
  },
  {
   "cell_type": "code",
   "execution_count": 20,
   "id": "601832df",
   "metadata": {},
   "outputs": [],
   "source": [
    "cap.release()\n",
    "cv2.destroyAllWindows()"
   ]
  },
  {
   "cell_type": "code",
   "execution_count": null,
   "id": "9b79e39f",
   "metadata": {
    "pycharm": {
     "is_executing": true
    }
   },
   "outputs": [],
   "source": []
  },
  {
   "cell_type": "code",
   "execution_count": 20,
   "outputs": [],
   "source": [],
   "metadata": {
    "collapsed": false
   }
  }
 ],
 "metadata": {
  "kernelspec": {
   "display_name": "base",
   "language": "python",
   "name": "python3"
  },
  "language_info": {
   "codemirror_mode": {
    "name": "ipython",
    "version": 3
   },
   "file_extension": ".py",
   "mimetype": "text/x-python",
   "name": "python",
   "nbconvert_exporter": "python",
   "pygments_lexer": "ipython3",
   "version": "3.9.12"
  },
  "vscode": {
   "interpreter": {
    "hash": "a3fc908e6b83f77c3aecb6db227b66fdae1db51ee737ad7849a983daed7d3f34"
   }
  }
 },
 "nbformat": 4,
 "nbformat_minor": 5
}
