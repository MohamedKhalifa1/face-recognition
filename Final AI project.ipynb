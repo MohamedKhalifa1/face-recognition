{
 "cells": [
  {
   "cell_type": "code",
   "execution_count": 2,
   "id": "c3317347",
   "metadata": {},
   "outputs": [],
   "source": [
    "import cv2\n",
    "import numpy as np\n",
    "import face_recognition\n",
    "import os"
   ]
  },
  {
   "cell_type": "code",
   "execution_count": 3,
   "id": "8b9e5b29",
   "metadata": {},
   "outputs": [
    {
     "name": "stdout",
     "output_type": "stream",
     "text": [
      "['bill', 'elon', 'Mohamed Ashraf', 'Salar', 'steve']\n"
     ]
    }
   ],
   "source": [
    "face_cascade = cv2.CascadeClassifier('cascades/data/haarcascade_frontalface_alt2.xml')\n",
    "recognizer = cv2.face.LBPHFaceRecognizer_create()\n",
    "path = r'C:/Users/lab11/Downloads/Face-recognition-python-project-main (1)/Face-recognition-python-project-main/persons'\n",
    "images = []\n",
    "classNames = []\n",
    "personsList = os.listdir(path)\n",
    "for cl in personsList:\n",
    "    curPersonn = cv2.imread(f'{path}/{cl}')\n",
    "    images.append(curPersonn)\n",
    "    classNames.append(os.path.splitext(cl)[0])\n",
    "print(classNames)\n"
   ]
  },
  {
   "cell_type": "code",
   "execution_count": 4,
   "id": "f1a86b78",
   "metadata": {},
   "outputs": [
    {
     "name": "stdout",
     "output_type": "stream",
     "text": [
      "['Mohamed Ashraf' 'Salar' 'bill' 'elon' 'steve']\n"
     ]
    }
   ],
   "source": [
    "labels = np.unique(classNames)\n",
    "print(labels)"
   ]
  },
  {
   "cell_type": "code",
   "execution_count": 5,
   "id": "179d47c8",
   "metadata": {},
   "outputs": [
    {
     "name": "stdout",
     "output_type": "stream",
     "text": [
      "number of samples : 5\n"
     ]
    }
   ],
   "source": [
    "print(\"number of samples :\", len(classNames))\n"
   ]
  },
  {
   "cell_type": "code",
   "execution_count": 6,
   "id": "de49f09c",
   "metadata": {},
   "outputs": [],
   "source": [
    "def findEncodeings(image):\n",
    "    encodeList = []\n",
    "    for img in images:\n",
    "        img = cv2.cvtColor(img, cv2.COLOR_BGR2RGB)\n",
    "        encode = face_recognition.face_encodings(img)[0]\n",
    "        encodeList.append(encode)\n",
    "    return encodeList\n"
   ]
  },
  {
   "cell_type": "code",
   "execution_count": 7,
   "id": "51c28dae",
   "metadata": {},
   "outputs": [
    {
     "name": "stdout",
     "output_type": "stream",
     "text": [
      "Encoding Complete.\n"
     ]
    }
   ],
   "source": [
    "encodeListKnown = findEncodeings(images)\n",
    "print('Encoding Complete.')"
   ]
  },
  {
   "cell_type": "code",
   "execution_count": 8,
   "id": "782882c1",
   "metadata": {},
   "outputs": [],
   "source": [
    "from sklearn.preprocessing import LabelEncoder\n",
    "from keras.utils import to_categorical\n",
    "le = LabelEncoder()\n",
    "\n",
    "le.fit(classNames)\n",
    "\n",
    "labels = le.classes_\n",
    "\n",
    "name_vec = le.transform(classNames)\n",
    "\n",
    "categorical_name_vec = to_categorical(name_vec)"
   ]
  },
  {
   "cell_type": "code",
   "execution_count": 19,
   "id": "adc877f9",
   "metadata": {},
   "outputs": [],
   "source": [
    "X=np.array(encodeListKnown)\n",
    "X=X.reshape(X.shape[0], -1)\n",
    "y=np.array(categorical_name_vec),"
   ]
  },
  {
   "cell_type": "code",
   "execution_count": 20,
   "id": "c0bcc82e",
   "metadata": {},
   "outputs": [
    {
     "name": "stdout",
     "output_type": "stream",
     "text": [
      "[2 3 0 1 4]\n"
     ]
    }
   ],
   "source": [
    "print(name_vec)\n"
   ]
  },
  {
   "cell_type": "code",
   "execution_count": 21,
   "id": "fe904df6",
   "metadata": {},
   "outputs": [],
   "source": [
    "from sklearn.model_selection import train_test_split\n",
    "x_train, x_test, y_train, y_test = train_test_split(X, \n",
    "                                                    np.array(categorical_name_vec),       \n",
    "                                                    test_size=0.15, \n",
    "                                                    shuffle=False)"
   ]
  },
  {
   "cell_type": "code",
   "execution_count": 22,
   "id": "91d6a598",
   "metadata": {},
   "outputs": [
    {
     "name": "stdout",
     "output_type": "stream",
     "text": [
      "(4, 128) (4, 5) (1, 128) (1, 5)\n"
     ]
    }
   ],
   "source": [
    "print(x_train.shape, y_train.shape, x_test.shape,  y_test.shape)\n"
   ]
  },
  {
   "cell_type": "code",
   "execution_count": 23,
   "id": "17e3e0b1",
   "metadata": {},
   "outputs": [],
   "source": [
    "x_train=x_train/255\n",
    "x_train=x_train/255"
   ]
  },
  {
   "cell_type": "code",
   "execution_count": 24,
   "id": "c43d26ba",
   "metadata": {},
   "outputs": [
    {
     "data": {
      "text/plain": [
       "MLPRegressor(activation='tanh', alpha=1e-06, solver='lbfgs')"
      ]
     },
     "execution_count": 24,
     "metadata": {},
     "output_type": "execute_result"
    }
   ],
   "source": [
    "from sklearn.neural_network import MLPRegressor\n",
    "MLPRegressorModel = MLPRegressor(activation='tanh', \n",
    "                                 solver='lbfgs',  \n",
    "                                 learning_rate='constant',\n",
    "                                 alpha=0.000001)\n",
    "MLPRegressorModel.fit(x_train, y_train)"
   ]
  },
  {
   "cell_type": "code",
   "execution_count": 25,
   "id": "c34df93c",
   "metadata": {},
   "outputs": [
    {
     "name": "stdout",
     "output_type": "stream",
     "text": [
      "[[-2.41768304e-07  4.50122372e-07 -4.28527089e-07  5.52292333e-08\n",
      "  -2.37339302e-06 -6.67659102e-08 -7.33091069e-07 -1.49811015e-06\n",
      "   1.94305803e-06 -8.93959675e-07  2.39116694e-06  4.03999469e-07\n",
      "  -3.64623130e-06 -6.97950224e-07  7.55540147e-07  1.59971934e-06\n",
      "  -2.91932917e-06 -1.44300863e-06 -2.07711554e-06 -1.43829732e-06\n",
      "  -1.67316769e-06 -9.45189363e-07  1.46670417e-06  1.04041020e-07\n",
      "  -2.22452372e-06 -3.35657037e-06 -2.22907393e-06 -2.28649353e-06\n",
      "   2.66365618e-06 -1.26982689e-06  6.34173082e-07  8.05739472e-07\n",
      "  -2.40983458e-06 -8.39811398e-07  8.43256483e-07  1.85456930e-06\n",
      "  -1.34019062e-06 -9.76370257e-07  3.83645560e-06 -3.16681242e-07\n",
      "  -2.54504225e-06 -6.79634056e-07  9.95729965e-07  3.11270648e-06\n",
      "   4.01864598e-06  1.05077970e-06  5.51001114e-07 -6.27183000e-07\n",
      "   1.78510102e-06 -3.12867507e-06  1.97509283e-06  2.53740846e-06\n",
      "   2.46696315e-06  1.44783005e-06  1.02816190e-06 -2.12329963e-06\n",
      "   1.37242066e-06  3.27066681e-06 -2.27900433e-06  1.33285141e-06\n",
      "   1.95763653e-06 -1.43833375e-06 -4.51130192e-07  1.33512342e-08\n",
      "   2.50899141e-06  9.99702233e-07 -9.18988240e-07 -2.17788360e-06\n",
      "   2.96791532e-06 -3.38011249e-06 -1.35951549e-06  1.61535084e-06\n",
      "  -1.88789153e-06 -2.08224255e-06 -4.98381407e-06 -7.19648228e-07\n",
      "   6.07939327e-06  3.34364068e-06 -1.15258207e-06 -8.13730442e-08\n",
      "  -5.54621449e-07 -1.29036929e-06 -3.94963212e-07  1.06207365e-06\n",
      "  -2.15051381e-06 -1.65381119e-06 -1.53500774e-06  1.65430474e-07\n",
      "   3.05607336e-06 -5.71604705e-07  7.28787321e-07  2.27930407e-06\n",
      "   1.45642093e-08 -1.83684397e-07 -4.84574419e-07 -2.45433296e-07\n",
      "  -1.57639390e-06 -9.19371396e-07 -1.07568452e-06 -1.89467984e-06\n",
      "   1.05366850e-06 -2.10624184e-06  7.98233206e-07  1.63757826e-06\n",
      "  -3.37383762e-06  2.52770580e-06 -5.32529919e-07 -2.37166990e-07\n",
      "   5.80141907e-07 -5.11969825e-08 -9.72629785e-07  1.47785646e-07\n",
      "   4.35255620e-06 -3.21283954e-06  3.07292353e-06  3.58506722e-06\n",
      "  -7.42653665e-08  7.75089428e-07  1.58660277e-06  2.37808050e-06\n",
      "  -9.91472048e-07 -5.38653431e-07 -2.95666102e-06 -1.47516202e-06\n",
      "  -9.26027363e-07 -1.10084623e-06  9.58879296e-07  1.02719026e-06]\n",
      " [-2.63200980e-08  1.08958035e-06  9.39017326e-07 -2.64760807e-07\n",
      "  -1.18892464e-06  4.78666231e-07 -8.28917510e-07 -2.00358252e-06\n",
      "   1.98364624e-06 -7.66342143e-07  4.88352519e-06 -1.31976210e-06\n",
      "  -4.18513887e-06 -7.72421943e-07 -1.88536641e-07  1.71019178e-06\n",
      "  -2.93627353e-06 -1.40314776e-06 -7.26149741e-07 -1.14644000e-06\n",
      "   1.15591407e-06  9.69504265e-07  9.37761770e-08 -2.25174793e-07\n",
      "  -2.20433788e-06 -4.05342659e-06 -1.54059857e-06 -1.51628361e-06\n",
      "   2.27964827e-06 -6.30711957e-07 -2.37166102e-07  1.05835403e-06\n",
      "  -2.19501839e-06 -8.61518111e-07  1.01992164e-06  5.45075998e-07\n",
      "  -1.27535343e-06 -3.34776271e-07  3.21675497e-06  1.77296004e-07\n",
      "  -2.76362882e-06 -2.42358879e-07 -1.73241954e-07  3.48705321e-06\n",
      "   2.97325476e-06  7.54466187e-07  7.15714402e-07 -1.70515620e-06\n",
      "   7.68033691e-07 -4.42157017e-06  1.70612005e-06  2.82913229e-06\n",
      "   2.03663113e-06  6.96330346e-07  1.44233982e-06 -2.83214323e-06\n",
      "  -1.15955199e-06  3.25739796e-06 -1.85922779e-06  1.87316511e-06\n",
      "   1.06773723e-06 -1.89247085e-06  4.69161370e-07 -5.42575742e-07\n",
      "   1.84074073e-06  5.39000036e-07 -1.11599293e-06 -1.99122389e-06\n",
      "   3.11862112e-06 -1.63241482e-06 -1.45760638e-06  2.41918456e-06\n",
      "  -1.43268197e-06 -2.78600016e-06 -5.14901541e-06 -6.39932401e-08\n",
      "   7.25997086e-06  6.68250107e-07 -2.95461668e-06  1.52842345e-07\n",
      "  -1.17167935e-07 -3.56217644e-07  2.11251877e-06  8.79624311e-07\n",
      "  -5.46458179e-07 -1.36443602e-06 -2.00559615e-06 -2.81029197e-07\n",
      "   3.13779268e-06 -1.81370139e-06 -2.83381623e-08  3.37952492e-06\n",
      "  -4.89204377e-07  5.72154461e-07  1.11834343e-06  1.51036864e-06\n",
      "  -4.13044004e-07 -6.01594194e-07 -1.37727004e-06 -8.85225509e-07\n",
      "   3.06866900e-07 -1.37430814e-06 -3.62115261e-07  1.77797493e-06\n",
      "  -2.51847797e-06  1.93669263e-06 -1.14626724e-08 -5.86494580e-07\n",
      "  -4.13436327e-08 -1.33504619e-06 -1.04456918e-07  5.91779229e-10\n",
      "   3.58513803e-06 -4.57433543e-06  1.93417279e-06  2.83650392e-06\n",
      "  -3.11247389e-07  2.18376775e-06  3.16115760e-07  1.04915461e-06\n",
      "  -3.32996524e-07 -1.56898778e-06 -3.13451500e-06 -1.31669193e-06\n",
      "  -2.31317067e-07 -1.03762483e-07 -8.56021009e-07  1.74018092e-07]\n",
      " [-2.27495438e-06  1.02424589e-06 -7.63598576e-08 -9.00855343e-07\n",
      "  -4.36184144e-07 -7.50839149e-07 -2.09864780e-07 -1.07545994e-06\n",
      "   2.87726837e-06 -1.66974930e-06  3.69988007e-06 -1.93593503e-06\n",
      "  -5.22615084e-06 -1.57514927e-07 -8.47342128e-07  1.18256944e-06\n",
      "  -2.16339882e-06 -2.35152744e-06 -2.92723343e-07 -2.13802250e-06\n",
      "   2.39304535e-08 -4.26003202e-07  5.28278132e-07  1.73113945e-06\n",
      "  -2.41156887e-06 -5.17435598e-06 -1.24674779e-06 -2.76077302e-06\n",
      "  -2.95472582e-07 -1.38802558e-06  6.53052011e-07  1.24977763e-06\n",
      "  -2.15162089e-06 -3.01819754e-07  3.96368625e-07  1.48970558e-06\n",
      "  -4.83584216e-07 -2.44423501e-07  4.54568716e-06 -5.05919458e-07\n",
      "  -1.23022199e-06  1.18400532e-07  7.22075897e-07  4.97815152e-06\n",
      "   9.27627705e-07  1.39282798e-06  4.22807072e-07 -1.48066863e-06\n",
      "   2.39750964e-06 -3.54629464e-06  1.81856143e-06  3.27594575e-06\n",
      "   2.81630732e-06  4.67118175e-07  1.41674924e-06 -1.77455196e-06\n",
      "   9.28594877e-07  2.32643460e-06 -3.49212545e-06  2.30816203e-06\n",
      "   1.77669427e-06 -4.96948283e-07 -8.05970065e-07 -6.65299322e-07\n",
      "   4.05148697e-06  1.16315966e-06 -2.28496182e-06 -1.46015270e-06\n",
      "   2.80389507e-06 -2.31083793e-06 -8.37211859e-07  2.38898189e-06\n",
      "  -1.63627365e-06 -3.61936934e-06 -2.79490923e-06  1.88896125e-06\n",
      "   5.66155211e-06  2.68141085e-06 -1.68131320e-06  8.09259779e-07\n",
      "  -1.49957690e-06 -6.13098910e-07  4.99941463e-07  1.00444124e-07\n",
      "  -2.29604012e-06 -1.70236136e-06 -2.09574170e-06  1.17801643e-07\n",
      "   3.18567279e-06  3.88026581e-07 -1.19802563e-06  2.59828173e-06\n",
      "   2.37126400e-07  2.23488057e-07  3.63456279e-08  3.10390758e-07\n",
      "  -2.52097788e-06 -4.32445763e-07 -1.56704793e-06 -3.75709720e-07\n",
      "   1.11435169e-06 -1.29453165e-06 -9.33427872e-07  4.81563021e-07\n",
      "  -3.43319935e-06  1.83209462e-06 -1.06599779e-06 -1.36753301e-06\n",
      "  -3.06038571e-07  1.17377472e-06 -2.08433066e-06 -2.44603048e-07\n",
      "   2.41438112e-06 -5.56584231e-06  2.76329333e-06  1.87712064e-06\n",
      "   1.67232346e-06  2.47102089e-06  9.86635960e-07  5.42817334e-07\n",
      "   5.50127841e-07 -6.44444400e-07 -2.69993779e-06 -2.58488662e-06\n",
      "   1.54940452e-06  4.76406823e-07  1.30328753e-06  1.88622089e-07]\n",
      " [-1.04560721e-06  8.76231876e-07  3.43413416e-07 -1.30426111e-06\n",
      "  -1.27979858e-06  4.60210734e-07 -2.64329413e-06 -1.44232275e-06\n",
      "   2.61737355e-06 -1.72081875e-06  1.66485283e-06  4.13907337e-07\n",
      "  -2.17689637e-06  2.59009566e-07 -1.06726619e-06  8.85419550e-07\n",
      "  -3.08364022e-06 -1.63170156e-06  8.05897994e-07 -1.17450254e-06\n",
      "  -2.40708322e-07  1.59368796e-06  1.22586872e-07  1.45674955e-06\n",
      "  -2.02977304e-06 -4.95528726e-06 -1.31767056e-06 -2.15154618e-06\n",
      "   5.73750220e-07 -1.60449471e-06 -2.35789106e-08 -2.67172242e-08\n",
      "  -1.98359537e-06  9.04903979e-07  1.10404299e-07  1.99853732e-06\n",
      "   3.02175240e-07 -6.60431380e-07  2.83753858e-06  1.13934691e-06\n",
      "  -1.40419789e-06 -8.95115789e-07 -2.37890450e-07  4.62891321e-06\n",
      "   2.53291714e-06  5.63859080e-07  3.62852270e-07 -1.42426456e-06\n",
      "   2.89959272e-06 -3.53338236e-06  2.42061612e-06  2.28692481e-06\n",
      "   1.02593859e-06  7.42183299e-07  1.58136336e-06 -1.84568739e-06\n",
      "   3.93708988e-07  2.01885217e-06 -2.35351518e-06  1.86959719e-06\n",
      "   9.17565841e-07  9.52844526e-07  3.12804104e-07 -1.74891870e-08\n",
      "   3.78648119e-06  1.48825774e-06 -1.84604763e-06 -1.91105301e-06\n",
      "   1.66713515e-06 -2.66698588e-06 -1.93780223e-06  4.51821769e-07\n",
      "  -1.01679337e-06 -2.84947624e-06 -3.85894862e-06  1.35711481e-06\n",
      "   5.93323792e-06  3.17823791e-06 -3.27715022e-06  4.38651687e-07\n",
      "  -6.73438759e-07 -1.52146929e-06  2.27426163e-06  1.48166331e-06\n",
      "  -1.15034581e-06 -2.53218194e-07 -1.32823589e-06  3.99814053e-07\n",
      "   3.21825070e-06  6.89986324e-07 -4.92916434e-07  3.04124668e-06\n",
      "  -8.93263027e-08  8.79856221e-07  4.39261941e-07  1.57647640e-06\n",
      "  -2.33250414e-06  9.53810151e-07 -1.88543161e-06 -5.44308138e-07\n",
      "   1.48242332e-06  5.65911785e-07  2.77195543e-08  2.49636260e-06\n",
      "  -2.82927483e-06  3.31827468e-06 -2.49975945e-07 -1.50437437e-06\n",
      "   5.37370590e-07  5.90056937e-07 -2.40899448e-06 -1.12703893e-06\n",
      "   3.19098290e-06 -3.84049272e-06  2.01559236e-06  1.61982130e-06\n",
      "   1.12740261e-06  3.08526016e-06  7.75390144e-07  1.44261974e-06\n",
      "   4.35877298e-07 -6.24308296e-07 -2.24360201e-06 -1.11670012e-06\n",
      "   2.36135396e-07 -1.47102748e-07 -8.23393281e-08  5.53077308e-07]]\n",
      "[[-0.24134862  0.14227886  0.02012594 -0.10303951 -0.19999303 -0.01447243\n",
      "  -0.07122093 -0.06872369  0.04549792  0.02699407  0.33206722  0.01825266\n",
      "  -0.23715393  0.02561717 -0.09324834  0.09923609 -0.14641553 -0.09379618\n",
      "  -0.13286185 -0.11615936  0.05675932 -0.01092549  0.00970848  0.04640917\n",
      "  -0.20134589 -0.19204418 -0.06132847 -0.07591918  0.19742346 -0.212263\n",
      "  -0.00386937 -0.12961631 -0.20797695 -0.03956422  0.02322563  0.08241582\n",
      "  -0.05579905 -0.13049884  0.29839116 -0.03885599 -0.11789215  0.0143441\n",
      "   0.11772147  0.23356763  0.17277615  0.00049318  0.08605929 -0.03722636\n",
      "   0.03621747 -0.27490216  0.08562943  0.13498902  0.12237395  0.06849457\n",
      "   0.07662687 -0.19829863 -0.00577779  0.19304317 -0.10435117  0.11019669\n",
      "   0.05797604  0.00104466 -0.10517402 -0.07650431  0.17091991  0.09821948\n",
      "  -0.1091319  -0.18682629  0.13725221 -0.14289032 -0.05441799  0.17505127\n",
      "  -0.05426588 -0.16824643 -0.20184013  0.08082498  0.41337162  0.17704701\n",
      "  -0.20538777  0.02062753 -0.03056883 -0.08269946  0.04184601 -0.04585809\n",
      "  -0.08993341 -0.02950168 -0.14197175  0.07472263  0.24288018 -0.01625973\n",
      "   0.05019746  0.18771632  0.10054104  0.00384258  0.04347501  0.12835404\n",
      "  -0.11923796 -0.04404939  0.01832641  0.02354599  0.12003347 -0.11097261\n",
      "   0.01273375  0.08774147 -0.15398902  0.11642475 -0.03981773 -0.05172576\n",
      "  -0.07401858  0.00958865 -0.04764532 -0.01099649  0.18013045 -0.28674591\n",
      "   0.22652881  0.25697917 -0.07118774  0.06605588  0.12321447  0.03650326\n",
      "   0.07663222  0.0791291  -0.08879355 -0.13475253 -0.07033736 -0.15434939\n",
      "   0.04368704  0.02849659]]\n",
      "[[0. 0. 0. 0. 1.]]\n"
     ]
    }
   ],
   "source": [
    "print(x_train)\n",
    "print(x_test)\n",
    "print(y_test)"
   ]
  },
  {
   "cell_type": "code",
   "execution_count": 26,
   "id": "de93c277",
   "metadata": {},
   "outputs": [
    {
     "name": "stdout",
     "output_type": "stream",
     "text": [
      "[[0.14655136 0.06681731 0.39401094 0.37676971 0.34968668]]\n"
     ]
    }
   ],
   "source": [
    "y_pred=np.array(MLPRegressorModel.predict(x_test))\n",
    "print(y_pred)"
   ]
  },
  {
   "cell_type": "code",
   "execution_count": 28,
   "id": "d91f037a",
   "metadata": {},
   "outputs": [],
   "source": [
    "import itertools\n",
    "import matplotlib.pyplot as plt\n",
    "def plot_confusion_matrix(cm, classes,\n",
    "                          normalize=False,\n",
    "                          title='Confusion matrix',\n",
    "                          cmap=plt.cm.Blues):\n",
    "    if normalize:\n",
    "        cm = cm.astype('float') / cm.sum(axis=1)[:, np.newaxis]\n",
    "\n",
    "    plt.figure(figsize=(8, 8))\n",
    "    \n",
    "    plt.imshow(cm, interpolation='nearest', cmap=cmap)\n",
    "    plt.title(title)\n",
    "    plt.colorbar()\n",
    "    \n",
    "    tick_marks = np.arange(len(classes))\n",
    "    plt.xticks(tick_marks, classes, rotation=45)\n",
    "    plt.yticks(tick_marks, classes)\n",
    "\n",
    "    fmt = '.2f' if normalize else 'd'\n",
    "    thresh = cm.max() / 2.\n",
    "    for i, j in itertools.product(range(cm.shape[0]), range(cm.shape[1])):\n",
    "        plt.text(j, i, format(cm[i, j], fmt),\n",
    "                 horizontalalignment=\"center\",\n",
    "                 color=\"white\" if cm[i, j] > thresh else \"black\")\n",
    "\n",
    "    plt.tight_layout()\n",
    "    plt.ylabel('True label')\n",
    "    plt.xlabel('Predicted label')\n",
    "    plt.show()"
   ]
  },
  {
   "cell_type": "code",
   "execution_count": 30,
   "id": "1f399f2e",
   "metadata": {},
   "outputs": [
    {
     "data": {
      "image/png": "[encoded data removed]",
      "text/plain": [
       "<Figure size 576x576 with 2 Axes>"
      ]
     },
     "metadata": {
      "needs_background": "light"
     },
     "output_type": "display_data"
    }
   ],
   "source": [
    "from sklearn.metrics import confusion_matrix\n",
    "cnf_matrix = confusion_matrix(y_test.argmax(axis=1), y_pred.argmax(axis=1))\n",
    "np.set_printoptions(precision=2)\n",
    "\n",
    "\n",
    "# Plot non-normalized confusion matrix\n",
    "plot_confusion_matrix(cnf_matrix, classes=labels,normalize=False,\n",
    "                      title='Confusion matrix OF ANN')"
   ]
  },
  {
   "cell_type": "code",
   "execution_count": 31,
   "id": "fa5ec353",
   "metadata": {},
   "outputs": [
    {
     "name": "stdout",
     "output_type": "stream",
     "text": [
      "['bill.jpg', 'elon.jpg', 'Mohamed Ashraf.jpg', 'Salar.jpg', 'steve.jpg']\n"
     ]
    }
   ],
   "source": [
    "path = r'C:/Users/lab11/Downloads/Face-recognition-python-project-main (1)/Face-recognition-python-project-main/persons'\n",
    "known_names = []\n",
    "known_name_encodings = []\n",
    "images = os.listdir(path)\n",
    "print(images)"
   ]
  },
  {
   "cell_type": "code",
   "execution_count": 32,
   "id": "9bed99ba",
   "metadata": {},
   "outputs": [
    {
     "name": "stdout",
     "output_type": "stream",
     "text": [
      "MOHAMED ASHRAF\n",
      "MOHAMED ASHRAF\n",
      "MOHAMED ASHRAF\n",
      "MOHAMED ASHRAF\n",
      "MOHAMED ASHRAF\n",
      "MOHAMED ASHRAF\n",
      "MOHAMED ASHRAF\n",
      "MOHAMED ASHRAF\n",
      "MOHAMED ASHRAF\n",
      "MOHAMED ASHRAF\n",
      "MOHAMED ASHRAF\n",
      "MOHAMED ASHRAF\n",
      "Nan\n",
      "MOHAMED ASHRAF\n",
      "Nan\n",
      "MOHAMED ASHRAF\n",
      "Nan\n",
      "Nan\n",
      "MOHAMED ASHRAF\n",
      "MOHAMED ASHRAF\n",
      "MOHAMED ASHRAF\n",
      "MOHAMED ASHRAF\n",
      "MOHAMED ASHRAF\n"
     ]
    }
   ],
   "source": [
    "cap = cv2.VideoCapture(0)\n",
    "face_cascade = cv2.CascadeClassifier(cv2.data.haarcascades+'haarcascade_frontalface_alt2.xml')\n",
    "while True:\n",
    "    _, img = cap.read()\n",
    "    faces = face_cascade.detectMultiScale(img, scaleFactor=1.5, minNeighbors=5)\n",
    "    imgS = cv2.resize(img, (0, 0), None, 0.20, 0.25)\n",
    "    imgS = cv2.cvtColor(img, cv2.COLOR_BGR2RGB)\n",
    "    for (x, y, w, h) in faces:\n",
    "        cv2.rectangle(img,(x,y),(x+w,y+h),(255,0,0),2)\n",
    "        \n",
    "    faceCurentFrame = face_recognition.face_locations(imgS)\n",
    "    encodeCurentFrame = face_recognition.face_encodings(imgS, faceCurentFrame)\n",
    "\n",
    "    for encodeface, faceLoc in zip(encodeCurentFrame, faceCurentFrame):\n",
    "        matches = face_recognition.compare_faces(encodeListKnown, encodeface)\n",
    "        faceDis = face_recognition.face_distance(encodeListKnown, encodeface)\n",
    "        matchIndex = np.argmin(faceDis)\n",
    "\n",
    "        if matches[matchIndex]:\n",
    "            name = classNames[matchIndex].upper()\n",
    "            print(name)\n",
    "            y1, x2, y2, x1 = faceLoc\n",
    "            y1, x2, y2, x1 = y1 * 4, x2 * 4, y2 * 4, x1 * 4\n",
    "            cv2.rectangle(img, (x1, y1), (x2, y2), (0, 0, 255), 2)\n",
    "            cv2.rectangle(img, (x1, y2 - 35), (x2, y2), (0, 0, 255), cv2.FILLED)\n",
    "            cv2.putText(img, name, (x1 + 6, y2 - 6), cv2.FONT_HERSHEY_COMPLEX, 1, (255, 255, 255), 2)\n",
    "        else: \n",
    "            print('Nan')\n",
    "    cv2.imshow('Face Recogntion', img)\n",
    "    if cv2.waitKey(20) & 0xFF == ord('q'):\n",
    "        break"
   ]
  },
  {
   "cell_type": "code",
   "execution_count": 13,
   "id": "601832df",
   "metadata": {},
   "outputs": [],
   "source": [
    "cap.release()\n",
    "cv2.destroyAllWindows()"
   ]
  },
  {
   "cell_type": "code",
   "execution_count": null,
   "id": "9b79e39f",
   "metadata": {},
   "outputs": [],
   "source": []
  }
 ],
 "metadata": {
  "kernelspec": {
   "display_name": "Python 3 (ipykernel)",
   "language": "python",
   "name": "python3"
  },
  "language_info": {
   "codemirror_mode": {
    "name": "ipython",
    "version": 3
   },
   "file_extension": ".py",
   "mimetype": "text/x-python",
   "name": "python",
   "nbconvert_exporter": "python",
   "pygments_lexer": "ipython3",
   "version": "3.9.12"
  }
 },
 "nbformat": 4,
 "nbformat_minor": 5
}
